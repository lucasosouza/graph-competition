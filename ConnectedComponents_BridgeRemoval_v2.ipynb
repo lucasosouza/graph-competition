{
 "cells": [
  {
   "cell_type": "code",
   "execution_count": 63,
   "metadata": {
    "collapsed": true
   },
   "outputs": [],
   "source": [
    "import numpy as np\n",
    "from time import time\n",
    "from utils import import_net\n",
    "\n",
    "from collections import defaultdict\n",
    "from time import time\n",
    "  "
   ]
  },
  {
   "cell_type": "code",
   "execution_count": 64,
   "metadata": {
    "collapsed": true
   },
   "outputs": [],
   "source": [
    "def connected_components(network):\n",
    "    \"\"\" Without using sets \"\"\"\n",
    "\n",
    "    not_visited = np.ones(len(network))        \n",
    "    ccs = []\n",
    "    # while there are still nodes not visited\n",
    "    while sum(not_visited) != 0:\n",
    "        # set start node to first node which is still not visited\n",
    "        start_node = np.where(not_visited)[0][0]\n",
    "        print(start_node)\n",
    "        # set not_visited to False\n",
    "        not_visited[start_node] = 0\n",
    "        # init connected component list of nodes\n",
    "        cc = [start_node]\n",
    "        # init queue\n",
    "        queue = [start_node]\n",
    "        while len(queue) > 0:\n",
    "            node1 = queue.pop(0)\n",
    "            for node2 in network[node1]:\n",
    "                if not_visited[node2]:\n",
    "                    # set not_visited to False\n",
    "                    not_visited[node2] = 0\n",
    "                    # append to connected component\n",
    "                    cc.append(node2)\n",
    "                    # append to queue\n",
    "                    queue.append(node2)\n",
    "        ccs.append(cc)\n",
    "        print(\"Remaining: {}\".format(sum(not_visited)))\n",
    "    return ccs\n",
    "                    "
   ]
  },
  {
   "cell_type": "code",
   "execution_count": 65,
   "metadata": {
    "collapsed": false
   },
   "outputs": [],
   "source": [
    "class Graph:  \n",
    "    \"\"\" \n",
    "    Python program to find bridges in a given undirected graph\n",
    "    Complexity : O(V+E)\n",
    "    #This class represents an undirected graph using adjacency list representation \\\\\n",
    "    \"\"\"\n",
    "\n",
    "    def __init__(self, vertices = 0):\n",
    "        self.V = vertices # integer?\n",
    "        self.graph = defaultdict(list) # default dictionary to store graph\n",
    "        self.Time = 0\n",
    "        self.Bridges = list()\n",
    "  \n",
    "    def count_edges(self):\n",
    "        return sum(len(v[1]) for v in self.graph.items())/2\n",
    "\n",
    "    # function to add an edge to graph\n",
    "    def addEdge(self,u,v):\n",
    "        self.graph[u].append(v)\n",
    "        self.graph[v].append(u)\n",
    "\n",
    "    def bridgeUtil(self,u, visited, parent, children, low, disc):\n",
    "\n",
    "        # create a stack\n",
    "        stack = [u]\n",
    "        backtrack_v = None\n",
    "\n",
    "        while len(stack) > 0:\n",
    "\n",
    "            # get top element of stack, without removing from stack\n",
    "            u = stack[-1]\n",
    "\n",
    "            done = True\n",
    "     \n",
    "            # only update time if not visited\n",
    "            if not visited[u]:\n",
    "\n",
    "                # Mark the current node as visited and print it\n",
    "                visited[u]= True\n",
    "         \n",
    "                # Initialize discovery time and low value\n",
    "                disc[u] = self.Time\n",
    "                low[u] = self.Time\n",
    "                self.Time += 1\n",
    "\n",
    "            if backtrack_v:\n",
    "                v = backtrack_v\n",
    "                # Check if the subtree rooted with v has a connection to\n",
    "                # one of the ancestors of u\n",
    "                low[u] = min(low[u], low[v])\n",
    "                if low[v] > disc[u]:\n",
    "                    # print (\"%d %d\" %(u,v))\n",
    "                    self.Bridges.append((u,v))\n",
    "                backtrack_v = None\n",
    "\n",
    "            # else:\n",
    "            for v in self.graph[u][children[u]:]:\n",
    "                # If v is not visited yet, then make it a child of u\n",
    "                # in DFS tree and recur for it\n",
    "                if visited[v] == False :\n",
    "                    parent[v] = u\n",
    "                    children[u] += 1\n",
    "                    stack.append(v)\n",
    "                    # after appending, break from loop\n",
    "                    done = False\n",
    "                    break\n",
    "\n",
    "                elif v != parent[u]: # Update low value of u for parent function calls.\n",
    "                    low[u] = min(low[u], disc[v])\n",
    "\n",
    "            if done:\n",
    "                backtrack_v = stack.pop()\n",
    "      \n",
    "    # DFS based function to find all bridges. It uses recursive\n",
    "    # function bridgeUtil()\n",
    "    def bridge(self):\n",
    "  \n",
    "        # Mark all the vertices as not visited and Initialize parent and visited, \n",
    "        # and ap(articulation point) arrays\n",
    "        visited = [False] * (self.V)\n",
    "        disc = [float(\"Inf\")] * (self.V)\n",
    "        low = [float(\"Inf\")] * (self.V)\n",
    "        parent = [-1] * (self.V)\n",
    "        children = [0] * (self.V)\n",
    " \n",
    "        # Call the recursive helper function to find bridges\n",
    "        # in DFS tree rooted with vertex 'i'\n",
    "        for i in range(self.V):\n",
    "            if visited[i] == False:\n",
    "                # print(\"Call bridgeUtil on {}\".format(i))\n",
    "                self.bridgeUtil(i, visited, parent, children, low, disc)\n"
   ]
  },
  {
   "cell_type": "code",
   "execution_count": 52,
   "metadata": {
    "collapsed": false
   },
   "outputs": [
    {
     "name": "stdout",
     "output_type": "stream",
     "text": [
      "Importado Grafo\n"
     ]
    }
   ],
   "source": [
    "g = Graph()\n",
    "\n",
    "network_name = 'real4'\n",
    "mt = np.genfromtxt('networks/' + network_name + '.csv',delimiter=',').astype(np.int32)\n",
    "network = {}\n",
    "for row in mt:\n",
    "    node1 = row[0]\n",
    "    node2 = row[1]\n",
    "    if node1 not in network:\n",
    "        network[node1] = set()\n",
    "    if node2 not in network:\n",
    "        network[node2] = set()\n",
    "    network[node1].add(node2)\n",
    "    network[node2].add(node1)\n",
    "    # add edges to graph\n",
    "    g.addEdge(node1, node2)\n",
    "\n",
    "all_nodes = set(mt.flatten())\n",
    "g.V = len(all_nodes)\n",
    "\n",
    "print (\"Importado Grafo\")"
   ]
  },
  {
   "cell_type": "code",
   "execution_count": 53,
   "metadata": {
    "collapsed": false
   },
   "outputs": [
    {
     "name": "stdout",
     "output_type": "stream",
     "text": [
      "[824 823]\n",
      "[156 155]\n",
      "[2541 2540]\n",
      "[2503 2502]\n",
      "[229 228]\n"
     ]
    }
   ],
   "source": [
    "g.bridge()\n",
    "bridge = np.array(g.Bridges[-10:])\n",
    "for b in bridge:\n",
    "    print(b)"
   ]
  },
  {
   "cell_type": "code",
   "execution_count": 59,
   "metadata": {
    "collapsed": false
   },
   "outputs": [
    {
     "name": "stdout",
     "output_type": "stream",
     "text": [
      "Found: {399681, 2}\n",
      "Found: {405904, 2}\n",
      "Found: {405905, 2}\n",
      "Found: {2, 405908}\n",
      "Found: {1360, 321301}\n"
     ]
    }
   ],
   "source": [
    "bridge = np.array(g.Bridges[-5:])\n",
    "network = dict()\n",
    "for i in range(0,g.V):\n",
    "    network[i] = set()\n",
    "for i, row in enumerate(mt):\n",
    "    flag = True\n",
    "    for b in bridge:\n",
    "        if set(row) == set(b):\n",
    "            print(\"Found: {}\".format(set(b)))\n",
    "            flag = False\n",
    "    if flag:\n",
    "        node1 = row[0]\n",
    "        node2 = row[1]\n",
    "        network[node1].add(node2)\n",
    "        network[node2].add(node1)\n"
   ]
  },
  {
   "cell_type": "code",
   "execution_count": 60,
   "metadata": {
    "collapsed": false
   },
   "outputs": [
    {
     "data": {
      "text/plain": [
       "426485"
      ]
     },
     "execution_count": 60,
     "metadata": {},
     "output_type": "execute_result"
    }
   ],
   "source": [
    "len(network.keys())"
   ]
  },
  {
   "cell_type": "code",
   "execution_count": 61,
   "metadata": {
    "collapsed": false
   },
   "outputs": [
    {
     "name": "stdout",
     "output_type": "stream",
     "text": [
      "0\n",
      "Remaining: 5.0\n",
      "321301\n",
      "Remaining: 4.0\n",
      "399681\n",
      "Remaining: 3.0\n",
      "405904\n",
      "Remaining: 2.0\n",
      "405905\n",
      "Remaining: 1.0\n",
      "405908\n",
      "Remaining: 0.0\n",
      "real3 :  6\n"
     ]
    }
   ],
   "source": [
    "res = connected_components(network)\n",
    "print(network_name, \": \", len(res))"
   ]
  },
  {
   "cell_type": "code",
   "execution_count": 62,
   "metadata": {
    "collapsed": false
   },
   "outputs": [
    {
     "name": "stdout",
     "output_type": "stream",
     "text": [
      "426480\n",
      "1\n",
      "1\n",
      "1\n",
      "1\n",
      "1\n"
     ]
    }
   ],
   "source": [
    "for r in res:\n",
    "    print(len(r))"
   ]
  },
  {
   "cell_type": "code",
   "execution_count": 3,
   "metadata": {
    "collapsed": false
   },
   "outputs": [
    {
     "name": "stdout",
     "output_type": "stream",
     "text": [
      "model1\n",
      "All nodes:  1039722\n",
      "0\n",
      "Remaining: 0.0\n",
      "model1 :  1\n",
      "model2\n",
      "All nodes:  1083568\n",
      "0\n",
      "Remaining: 0.0\n",
      "model2 :  1\n",
      "model3\n",
      "All nodes:  997663\n",
      "0\n",
      "Remaining: 0.0\n",
      "model3 :  1\n",
      "model4\n",
      "All nodes:  1001733\n",
      "0\n",
      "Remaining: 0.0\n",
      "model4 :  1\n",
      "real1\n",
      "All nodes:  1694616\n",
      "0\n",
      "Remaining: 0.0\n",
      "real1 :  1\n",
      "real2\n",
      "All nodes:  1957027\n",
      "0\n",
      "Remaining: 0.0\n",
      "real2 :  1\n",
      "real3\n",
      "All nodes:  426485\n",
      "0\n",
      "Remaining: 0.0\n",
      "real3 :  1\n",
      "real4\n",
      "All nodes:  855802\n",
      "0\n",
      "Remaining: 0.0\n",
      "real4 :  1\n"
     ]
    }
   ],
   "source": [
    "# load file\n",
    "network = import_net(network_name)\n",
    "\n"
   ]
  }
 ],
 "metadata": {
  "anaconda-cloud": {},
  "kernelspec": {
   "display_name": "Python [conda env:udacity]",
   "language": "python",
   "name": "conda-env-udacity-py"
  },
  "language_info": {
   "codemirror_mode": {
    "name": "ipython",
    "version": 3
   },
   "file_extension": ".py",
   "mimetype": "text/x-python",
   "name": "python",
   "nbconvert_exporter": "python",
   "pygments_lexer": "ipython3",
   "version": "3.5.2"
  }
 },
 "nbformat": 4,
 "nbformat_minor": 1
}
