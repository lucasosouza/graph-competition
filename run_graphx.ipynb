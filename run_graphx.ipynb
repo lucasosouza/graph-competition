{
 "cells": [
  {
   "cell_type": "code",
   "execution_count": 1,
   "metadata": {
    "collapsed": false
   },
   "outputs": [],
   "source": [
    "from graphx import Graph\n",
    "from time import time\n",
    "from utils import export_net"
   ]
  },
  {
   "cell_type": "code",
   "execution_count": 2,
   "metadata": {
    "collapsed": false
   },
   "outputs": [
    {
     "name": "stdout",
     "output_type": "stream",
     "text": [
      "networks/model4.csv\n",
      "Adicionado todas as arestas ao grafo\n",
      "1001733\n",
      "Network model4 exported successfully.\n",
      "networks/model3.csv\n",
      "Adicionado todas as arestas ao grafo\n",
      "997663\n",
      "Network model3 exported successfully.\n",
      "networks/model2.csv\n",
      "Adicionado todas as arestas ao grafo\n",
      "1083568\n",
      "Network model2 exported successfully.\n",
      "networks/model1.csv\n",
      "Adicionado todas as arestas ao grafo\n",
      "1039722\n",
      "Network model1 exported successfully.\n"
     ]
    }
   ],
   "source": [
    "first=True\n",
    "file_out = \"graphx_v3_2.csv\"\n",
    "\n",
    "for fftype in ['model']:\n",
    "    for ii in range(4,0,-1):\n",
    "        network_name = fftype + str(ii)\n",
    "\n",
    "        # graph procedures\n",
    "        filename = \"networks/\" + network_name + \".csv\"\n",
    "        g = Graph(filename=filename)\n",
    "        g.find_bridges()\n",
    "        g.create_sparse_graph()\n",
    "        g.find_clusters()\n",
    "        len(g.clusters), len(g.bridges)\n",
    "        g.pre_clusters_size()\n",
    "        g.score_bridges()\n",
    "        g.score_remaining()\n",
    "        res = g.export()\n",
    "        \n",
    "        # export\n",
    "        export_net(res, network_name, file_out, first=first)\n",
    "        first = False\n"
   ]
  },
  {
   "cell_type": "code",
   "execution_count": null,
   "metadata": {
    "collapsed": true
   },
   "outputs": [],
   "source": []
  }
 ],
 "metadata": {
  "anaconda-cloud": {},
  "kernelspec": {
   "display_name": "Python [conda env:udacity]",
   "language": "python",
   "name": "conda-env-udacity-py"
  },
  "language_info": {
   "codemirror_mode": {
    "name": "ipython",
    "version": 3
   },
   "file_extension": ".py",
   "mimetype": "text/x-python",
   "name": "python",
   "nbconvert_exporter": "python",
   "pygments_lexer": "ipython3",
   "version": "3.5.2"
  }
 },
 "nbformat": 4,
 "nbformat_minor": 1
}
