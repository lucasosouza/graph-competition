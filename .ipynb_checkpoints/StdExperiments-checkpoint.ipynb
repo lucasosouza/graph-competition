{
 "cells": [
  {
   "cell_type": "code",
   "execution_count": 8,
   "metadata": {
    "collapsed": true
   },
   "outputs": [],
   "source": [
    "import numpy as np\n",
    "from utils import import_net, export_net\n",
    "import matplotlib.pyplot as plt\n",
    "%matplotlib inline\n",
    "import seaborn as sns"
   ]
  },
  {
   "cell_type": "code",
   "execution_count": 9,
   "metadata": {
    "collapsed": false
   },
   "outputs": [
    {
     "name": "stdout",
     "output_type": "stream",
     "text": [
      "real1\n",
      "All nodes:  1694616\n",
      "Network real1 exported successfully.\n",
      "real2\n",
      "All nodes:  1957027\n",
      "Network real2 exported successfully.\n",
      "real3\n",
      "All nodes:  426485\n",
      "Network real3 exported successfully.\n",
      "real4\n",
      "All nodes:  855802\n",
      "Network real4 exported successfully.\n",
      "model1\n",
      "All nodes:  1039722\n",
      "Network model1 exported successfully.\n",
      "model2\n",
      "All nodes:  1083568\n",
      "Network model2 exported successfully.\n",
      "model3\n",
      "All nodes:  997663\n",
      "Network model3 exported successfully.\n",
      "model4\n",
      "All nodes:  1001733\n",
      "Network model4 exported successfully.\n"
     ]
    }
   ],
   "source": [
    "for fftype in ['real', 'model']:\n",
    "    for ii in range(1,5):\n",
    "        network_name = fftype + str(ii)\n",
    "        network = import_net(network_name)\n",
    "\n",
    "        # base X\n",
    "        X = map(lambda x:[x[0], list(x[1])], list(network.items()))\n",
    "        X = map(lambda x:[x[0], len(x[1]), np.std((x[1]))], X)\n",
    "        X = np.array(list(X))\n",
    "\n",
    "        # mean of stds\n",
    "        max_std = np.max(X[:,2])\n",
    "        min_std = np.min(X[:, 2])\n",
    "        den = max_std - min_std\n",
    "        X = map(lambda x:[x[0], x[1], x[2], (x[2]-min_std)/den], X)\n",
    "        X = map(lambda x:(int(x[0]), x[1]*(0.5+x[3])), X)\n",
    "        X = list(X)\n",
    "        \n",
    "        X = sorted(X, key=lambda x:-x[1])\n",
    "        \n",
    "        file_out = \"std_experiments_{}.csv\".format(network_name)\n",
    "        export_net(X, network_name, file_out, first=True)"
   ]
  },
  {
   "cell_type": "code",
   "execution_count": null,
   "metadata": {
    "collapsed": true
   },
   "outputs": [],
   "source": []
  }
 ],
 "metadata": {
  "anaconda-cloud": {},
  "kernelspec": {
   "display_name": "Python [conda env:udacity]",
   "language": "python",
   "name": "conda-env-udacity-py"
  },
  "language_info": {
   "codemirror_mode": {
    "name": "ipython",
    "version": 3
   },
   "file_extension": ".py",
   "mimetype": "text/x-python",
   "name": "python",
   "nbconvert_exporter": "python",
   "pygments_lexer": "ipython3",
   "version": "3.5.2"
  }
 },
 "nbformat": 4,
 "nbformat_minor": 1
}
