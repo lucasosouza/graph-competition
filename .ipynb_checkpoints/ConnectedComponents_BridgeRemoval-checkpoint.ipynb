{
 "cells": [
  {
   "cell_type": "code",
   "execution_count": 1,
   "metadata": {
    "collapsed": true
   },
   "outputs": [],
   "source": [
    "import numpy as np\n",
    "from time import time\n",
    "from utils import import_net"
   ]
  },
  {
   "cell_type": "code",
   "execution_count": 2,
   "metadata": {
    "collapsed": true
   },
   "outputs": [],
   "source": [
    "def connected_components(network):\n",
    "    \"\"\" Without using sets \"\"\"\n",
    "\n",
    "    not_visited = np.ones(len(network))        \n",
    "    ccs = []\n",
    "    # while there are still nodes not visited\n",
    "    while sum(not_visited) != 0:\n",
    "        # set start node to first node which is still not visited\n",
    "        start_node = np.where(not_visited)[0][0]\n",
    "        print(start_node)\n",
    "        # set not_visited to False\n",
    "        not_visited[start_node] = 0\n",
    "        # init connected component list of nodes\n",
    "        cc = [start_node]\n",
    "        # init queue\n",
    "        queue = [start_node]\n",
    "        while len(queue) > 0:\n",
    "            node1 = queue.pop(0)\n",
    "            for node2 in network[node1]:\n",
    "                if not_visited[node2]:\n",
    "                    # set not_visited to False\n",
    "                    not_visited[node2] = 0\n",
    "                    # append to connected component\n",
    "                    cc.append(node2)\n",
    "                    # append to queue\n",
    "                    queue.append(node2)\n",
    "        ccs.append(cc)\n",
    "        print(\"Remaining: {}\".format(sum(not_visited)))\n",
    "    return ccs\n",
    "                    "
   ]
  },
  {
   "cell_type": "code",
   "execution_count": 3,
   "metadata": {
    "collapsed": false
   },
   "outputs": [
    {
     "name": "stdout",
     "output_type": "stream",
     "text": [
      "model1\n",
      "All nodes:  1039722\n",
      "0\n",
      "Remaining: 0.0\n",
      "model1 :  1\n",
      "model2\n",
      "All nodes:  1083568\n",
      "0\n",
      "Remaining: 0.0\n",
      "model2 :  1\n",
      "model3\n",
      "All nodes:  997663\n",
      "0\n",
      "Remaining: 0.0\n",
      "model3 :  1\n",
      "model4\n",
      "All nodes:  1001733\n",
      "0\n",
      "Remaining: 0.0\n",
      "model4 :  1\n",
      "real1\n",
      "All nodes:  1694616\n",
      "0\n",
      "Remaining: 0.0\n",
      "real1 :  1\n",
      "real2\n",
      "All nodes:  1957027\n",
      "0\n",
      "Remaining: 0.0\n",
      "real2 :  1\n",
      "real3\n",
      "All nodes:  426485\n",
      "0\n",
      "Remaining: 0.0\n",
      "real3 :  1\n",
      "real4\n",
      "All nodes:  855802\n",
      "0\n",
      "Remaining: 0.0\n",
      "real4 :  1\n"
     ]
    }
   ],
   "source": [
    "# load file\n",
    "for ftype in ['model', 'real']:\n",
    "    for ii in range(1,5):\n",
    "        network_name = ftype+str(ii)\n",
    "        network = import_net(network_name)\n",
    "        \n",
    "        res = connected_components(network)\n",
    "        print(network_name, \": \", len(res))"
   ]
  },
  {
   "cell_type": "code",
   "execution_count": null,
   "metadata": {
    "collapsed": true
   },
   "outputs": [],
   "source": [
    "        network_name = ftype+str(ii)\n",
    "        network = import_net(network_name)"
   ]
  },
  {
   "cell_type": "code",
   "execution_count": 12,
   "metadata": {
    "collapsed": false
   },
   "outputs": [
    {
     "data": {
      "text/plain": [
       "()"
      ]
     },
     "execution_count": 12,
     "metadata": {},
     "output_type": "execute_result"
    }
   ],
   "source": [
    "X = map(lambda x:[len(x), mean(x), std(x), max(x)-min(x)], network.values())\n",
    "X = np.array(X)\n",
    "X.shape"
   ]
  },
  {
   "cell_type": "code",
   "execution_count": 10,
   "metadata": {
    "collapsed": true
   },
   "outputs": [],
   "source": []
  },
  {
   "cell_type": "code",
   "execution_count": 155,
   "metadata": {
    "collapsed": false
   },
   "outputs": [
    {
     "name": "stdout",
     "output_type": "stream",
     "text": [
      "0\n",
      "Remaining: 2.0\n",
      "3\n",
      "Remaining: 0.0\n",
      "Running time is: 0.00\n"
     ]
    }
   ],
   "source": [
    "t0 = time()\n",
    "res = connected_components()\n",
    "print(\"Running time is: {:.2f}\".format(time()-t0))"
   ]
  },
  {
   "cell_type": "code",
   "execution_count": 152,
   "metadata": {
    "collapsed": true
   },
   "outputs": [],
   "source": [
    "network = \\\n",
    "    {\n",
    "        0: [1,2],\n",
    "        1: [0,2],\n",
    "        2: [0,1],\n",
    "        3: [4],\n",
    "        4: [3]\n",
    "    }"
   ]
  },
  {
   "cell_type": "code",
   "execution_count": 104,
   "metadata": {
    "collapsed": false
   },
   "outputs": [
    {
     "data": {
      "text/plain": [
       "2"
      ]
     },
     "execution_count": 104,
     "metadata": {},
     "output_type": "execute_result"
    }
   ],
   "source": [
    "# a[np.where(a>7)]\n",
    "#ix = np.isin(a, 8)\n",
    "#ix, np.where(ix)[0][0]\n",
    "np.where(mask)[0][1]"
   ]
  }
 ],
 "metadata": {
  "anaconda-cloud": {},
  "kernelspec": {
   "display_name": "Python [conda env:udacity]",
   "language": "python",
   "name": "conda-env-udacity-py"
  },
  "language_info": {
   "codemirror_mode": {
    "name": "ipython",
    "version": 3
   },
   "file_extension": ".py",
   "mimetype": "text/x-python",
   "name": "python",
   "nbconvert_exporter": "python",
   "pygments_lexer": "ipython3",
   "version": "3.5.2"
  }
 },
 "nbformat": 4,
 "nbformat_minor": 1
}
