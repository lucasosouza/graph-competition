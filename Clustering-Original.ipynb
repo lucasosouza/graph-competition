{
 "cells": [
  {
   "cell_type": "code",
   "execution_count": 1,
   "metadata": {
    "collapsed": true
   },
   "outputs": [],
   "source": [
    "import numpy as np\n",
    "from utils import import_net\n",
    "import matplotlib.pyplot as plt\n",
    "%matplotlib inline\n",
    "import seaborn as sns"
   ]
  },
  {
   "cell_type": "code",
   "execution_count": 2,
   "metadata": {
    "collapsed": false
   },
   "outputs": [
    {
     "name": "stdout",
     "output_type": "stream",
     "text": [
      "real2\n",
      "All nodes:  1957027\n"
     ]
    }
   ],
   "source": [
    "network_name = 'real2'\n",
    "network = import_net(network_name)"
   ]
  },
  {
   "cell_type": "code",
   "execution_count": null,
   "metadata": {
    "collapsed": false
   },
   "outputs": [],
   "source": [
    "# base X\n",
    "X = map(lambda x:[x[0], list(x[1])], list(network.items()))\n",
    "X = map(lambda x:[x[0], len(x[1]), np.std((x[1]))], X)\n",
    "X = np.array(list(X))\n",
    "\n",
    "# mean of stds\n",
    "max_std = np.max(X[:,2])\n",
    "min_std = np.min(X[:, 2])\n",
    "den = max_std - min_std\n",
    "X = map(lambda x:[x[0], x[1], x[2], (x[2]-min_std)/den], X)\n",
    "X = map(lambda x:(int(x[0]), x[1]*(1+x[3])), X)\n",
    "X = list(X)\n"
   ]
  },
  {
   "cell_type": "code",
   "execution_count": null,
   "metadata": {
    "collapsed": false
   },
   "outputs": [],
   "source": [
    "X = sorted(X, key=lambda x:-x[1])"
   ]
  },
  {
   "cell_type": "code",
   "execution_count": null,
   "metadata": {
    "collapsed": false
   },
   "outputs": [],
   "source": [
    "file_out = \"std_experiments_real2.csv\"\n",
    "export_net(X, network_name, file_out, first=True)"
   ]
  },
  {
   "cell_type": "code",
   "execution_count": null,
   "metadata": {
    "collapsed": true
   },
   "outputs": [],
   "source": []
  },
  {
   "cell_type": "code",
   "execution_count": null,
   "metadata": {
    "collapsed": false
   },
   "outputs": [],
   "source": [
    "from sklearn.cluster import KMeans\n",
    "cl = KMeans(n_clusters=1000).fit(X[:, 1:3])"
   ]
  },
  {
   "cell_type": "code",
   "execution_count": null,
   "metadata": {
    "collapsed": false
   },
   "outputs": [],
   "source": [
    "clusters = cl.cluster_centers_.astype(np.int32)"
   ]
  },
  {
   "cell_type": "code",
   "execution_count": null,
   "metadata": {
    "collapsed": false
   },
   "outputs": [],
   "source": [
    "plt.scatter(clusters[:, 0], clusters[:, 1])\n",
    "plt.ylabel('Standard Deviation')\n",
    "plt.xlabel('Mean')"
   ]
  },
  {
   "cell_type": "code",
   "execution_count": null,
   "metadata": {
    "collapsed": true
   },
   "outputs": [],
   "source": [
    "from sklearn.clusters import AffinityPropagation\n",
    "cl = AffinityPropagation(n_clusters=1000).fit(X[:, 1:3])\n",
    "clusters = cl.cluster_centers_.astype(np.int32)"
   ]
  },
  {
   "cell_type": "code",
   "execution_count": null,
   "metadata": {
    "collapsed": true
   },
   "outputs": [],
   "source": [
    "plt.scatter(clusters[:, 0], clusters[:, 1])\n",
    "plt.ylabel('Standard Deviation')\n",
    "plt.xlabel('Mean')"
   ]
  },
  {
   "cell_type": "code",
   "execution_count": null,
   "metadata": {
    "collapsed": true
   },
   "outputs": [],
   "source": [
    "# # base X\n",
    "# X = map(lambda x:list(x), list(network.values())[:10000])\n",
    "# X = map(lambda x:[len(x), np.mean((x)), np.std((x))], X)\n",
    "# X = np.array(list(X))\n",
    "\n",
    "# # mean of stds\n",
    "# max_std = np.max(X[:,2])\n",
    "# min_std = np.min(X[:, 2])\n",
    "# den = max_std - min_std\n",
    "# X = map(lambda x:[x[0], x[1], x[2], (x[2]-min_std)/den], X)\n",
    "# X = map(lambda x:x[0]*(1+x[3]), X)\n",
    "# X = np.array(list(X))"
   ]
  }
 ],
 "metadata": {
  "anaconda-cloud": {},
  "kernelspec": {
   "display_name": "Python [conda env:udacity]",
   "language": "python",
   "name": "conda-env-udacity-py"
  },
  "language_info": {
   "codemirror_mode": {
    "name": "ipython",
    "version": 3
   },
   "file_extension": ".py",
   "mimetype": "text/x-python",
   "name": "python",
   "nbconvert_exporter": "python",
   "pygments_lexer": "ipython3",
   "version": "3.5.2"
  }
 },
 "nbformat": 4,
 "nbformat_minor": 1
}
