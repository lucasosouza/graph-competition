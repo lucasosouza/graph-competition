{
 "cells": [
  {
   "cell_type": "code",
   "execution_count": 1,
   "metadata": {
    "collapsed": true
   },
   "outputs": [],
   "source": [
    "import numpy as np"
   ]
  },
  {
   "cell_type": "code",
   "execution_count": 2,
   "metadata": {
    "collapsed": false
   },
   "outputs": [
    {
     "data": {
      "text/plain": [
       "(3915, 3915, 18119)"
      ]
     },
     "execution_count": 2,
     "metadata": {},
     "output_type": "execute_result"
    }
   ],
   "source": [
    "count_baseline_lines = 0\n",
    "count_original_lines = 0\n",
    "count_mixed_lines = 0\n",
    "# count_new_others = 0\n",
    "output = open('sep28submission1.csv', 'w')\n",
    "\n",
    "# reals\n",
    "# for line in open('combined_results_2509_v4.csv'):\n",
    "for line in open('combined_results_2509_v4.csv'):\n",
    "    # if  line.startswith('NetID') or line.startswith('real'):\n",
    "    if  not line.startswith('real2'):\n",
    "        if not line.endswith(\"\\n\"):\n",
    "            line = line + \"\\n\"\n",
    "        count_baseline_lines += 1\n",
    "        output.write(line)\n",
    "    else:\n",
    "        count_original_lines += 1\n",
    "\n",
    "# # real 1\n",
    "# for line in open('std_experiments_real1.csv'):\n",
    "#     if  line.startswith('real1'):\n",
    "#         if not line.endswith(\"\\n\"):\n",
    "#             line = line + \"\\n\"\n",
    "#         count_mixed_lines += 1            \n",
    "#         output.write(line)\n",
    "        \n",
    "# real 2\n",
    "for line in open('ci_real2.csv'):\n",
    "    if  line.startswith('real2'):\n",
    "        if not line.endswith(\"\\n\"):\n",
    "            line = line + \"\\n\"\n",
    "        count_mixed_lines += 1            \n",
    "        output.write(line)\n",
    "        \n",
    "# # real 3\n",
    "# for line in open('std_experiments_real3.csv'):\n",
    "#     if  line.startswith('real3'):\n",
    "#         if not line.endswith(\"\\n\"):\n",
    "#             line = line + \"\\n\"\n",
    "#         count_mixed_lines += 1            \n",
    "#         output.write(line)\n",
    "        \n",
    "# # real 4\n",
    "# for line in open('std_experiments_real4.csv'):\n",
    "#     if  line.startswith('real4'):\n",
    "#         if not line.endswith(\"\\n\"):\n",
    "#             line = line + \"\\n\"\n",
    "#         count_mixed_lines += 1            \n",
    "#         output.write(line)\n",
    "\n",
    "# # model 1\n",
    "# for line in open('std_experiments_model1.csv'):\n",
    "#     if  line.startswith('model1'):\n",
    "#         if not line.endswith(\"\\n\"):\n",
    "#             line = line + \"\\n\"\n",
    "#         count_mixed_lines += 1\n",
    "#         output.write(line)\n",
    "\n",
    "# # model 2\n",
    "# for line in open('std_experiments_model2.csv'):\n",
    "#     if  line.startswith('model2'):\n",
    "#         if not line.endswith(\"\\n\"):\n",
    "#             line = line + \"\\n\"\n",
    "#         count_mixed_lines += 1            \n",
    "#         output.write(line)\n",
    "        \n",
    "# # model 3\n",
    "# for line in open('std_experiments_model3.csv'):\n",
    "#     if  line.startswith('model3'):\n",
    "#         if not line.endswith(\"\\n\"):\n",
    "#             line = line + \"\\n\"\n",
    "#         count_mixed_lines += 1            \n",
    "#         output.write(line)\n",
    "        \n",
    "# # model 4\n",
    "# for line in open('std_experiments_model4.csv'):\n",
    "#     if  line.startswith('model4'):\n",
    "#         if not line.endswith(\"\\n\"):\n",
    "#             line = line + \"\\n\"\n",
    "#         count_mixed_lines += 1            \n",
    "#         output.write(line)\n",
    "        \n",
    "        \n",
    "output.close()\n",
    "count_original_lines, count_mixed_lines, count_baseline_lines + count_mixed_lines"
   ]
  },
  {
   "cell_type": "code",
   "execution_count": 6,
   "metadata": {
    "collapsed": false
   },
   "outputs": [
    {
     "data": {
      "text/plain": [
       "(12406, 12406)"
      ]
     },
     "execution_count": 6,
     "metadata": {},
     "output_type": "execute_result"
    }
   ],
   "source": [
    "# count_baseline_lines = 0\n",
    "# count_original_lines = 0\n",
    "# count_mixed_lines = 0\n",
    "# # count_new_others = 0\n",
    "# output = open('combined_results_2509.csv', 'w')\n",
    "\n",
    "# # model 3, 4 - real 4\n",
    "# for line in open('results.csv'):\n",
    "#     if line.startswith('real4') or line.startswith('model3') \\\n",
    "#     or line.startswith('model4') or line.startswith('NetID'):\n",
    "#         if not line.endswith(\"\\n\"):\n",
    "#             line = line + \"\\n\"\n",
    "#         count_baseline_lines += 1\n",
    "#         output.write(line)\n",
    "#     else:\n",
    "#         count_original_lines += 1\n",
    "\n",
    "# # model 1, 2\n",
    "# for line in open('results-model.csv'):\n",
    "#     if  line.startswith('model1') or line.startswith('model2'):\n",
    "#         if not line.endswith(\"\\n\"):\n",
    "#             line = line + \"\\n\"\n",
    "#         count_mixed_lines += 1\n",
    "#         output.write(line)\n",
    "\n",
    "# # real 1, 2, 3\n",
    "# for line in open('results-full-v2.csv'):\n",
    "#     if  line.startswith('real1') or line.startswith('real2') \\\n",
    "#     or line.startswith('real3'):\n",
    "#         if not line.endswith(\"\\n\"):\n",
    "#             line = line + \"\\n\"\n",
    "#         count_mixed_lines += 1            \n",
    "#         output.write(line)\n",
    "        \n",
    "# output.close()\n",
    "# count_original_lines, count_mixed_lines, count_baseline_lines + count_mixed_lines"
   ]
  }
 ],
 "metadata": {
  "anaconda-cloud": {},
  "kernelspec": {
   "display_name": "Python [conda env:udacity]",
   "language": "python",
   "name": "conda-env-udacity-py"
  },
  "language_info": {
   "codemirror_mode": {
    "name": "ipython",
    "version": 3
   },
   "file_extension": ".py",
   "mimetype": "text/x-python",
   "name": "python",
   "nbconvert_exporter": "python",
   "pygments_lexer": "ipython3",
   "version": "3.5.2"
  }
 },
 "nbformat": 4,
 "nbformat_minor": 1
}
