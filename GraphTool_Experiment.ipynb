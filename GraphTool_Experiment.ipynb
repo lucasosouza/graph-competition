hrap{
 "cells": [
  {
   "cell_type": "code",
   "execution_count": 2,
   "metadata": {
    "collapsed": true
   },
   "outputs": [],
   "source": [
    "import numpy as np"
   ]
  },
  {
   "cell_type": "code",
   "execution_count": 13,
   "metadata": {
    "collapsed": false
   },
   "outputs": [],
   "source": [
    "file_name = 'real2'\n",
    "mt = np.genfromtxt('networks/' + file_name + '.csv',delimiter=',').astype(np.int32)\n",
    "nodes = list(set(mt.flatten()))\n",
    "edges = [(row[0], row[1]) for row in mt] + [(row[1], row[0]) for row in mt]\n"
   ]
  },
  {
   "cell_type": "code",
   "execution_count": 14,
   "metadata": {
    "collapsed": false
   },
   "outputs": [
    {
     "data": {
      "text/plain": [
       "(1957027, 5520776)"
      ]
     },
     "execution_count": 14,
     "metadata": {},
     "output_type": "execute_result"
    }
   ],
   "source": [
    "len(nodes), len(edges)"
   ]
  },
  {
   "cell_type": "code",
   "execution_count": 15,
   "metadata": {
    "collapsed": false
   },
   "outputs": [],
   "source": [
    "path = 'Neo4j/'\n",
    "nodes_out = path + file_name + '_nodes.csv'\n",
    "edges_out = path + file_name + '_edges.csv'\n",
    "\n",
    "with open(nodes_out, 'w') as f:\n",
    "    f.write('id' + '\\t')\n",
    "    f.write('l:label' + '\\t')\n",
    "    f.write('name')\n",
    "    for node in nodes:\n",
    "        f.write('\\n')\n",
    "        f.write(str(node) + '\\t')\n",
    "        f.write('Node' + '\\t')\n",
    "        f.write('node'+ str(node))\n",
    "\n",
    "with open(edges_out, 'w') as f:\n",
    "    f.write('start' + '\\t')\n",
    "    f.write('end' + '\\t')\n",
    "    f.write('type')\n",
    "    for edge in edges:\n",
    "        f.write('\\n')\n",
    "        f.write(str(edge[0]) + '\\t')\n",
    "        f.write(str(edge[1]) + '\\t')\n",
    "        f.write('IsConnectedTo')\n"
   ]
  },
  {
   "cell_type": "code",
   "execution_count": null,
   "metadata": {
    "collapsed": true
   },
   "outputs": [],
   "source": []
  }
 ],
 "metadata": {
  "kernelspec": {
   "display_name": "Python [conda env:udacity]",
   "language": "python",
   "name": "conda-env-udacity-py"
  },
  "language_info": {
   "codemirror_mode": {
    "name": "ipython",
    "version": 3
   },
   "file_extension": ".py",
   "mimetype": "text/x-python",
   "name": "python",
   "nbconvert_exporter": "python",
   "pygments_lexer": "ipython3",
   "version": "3.5.2"
  }
 },
 "nbformat": 4,
 "nbformat_minor": 1
}
